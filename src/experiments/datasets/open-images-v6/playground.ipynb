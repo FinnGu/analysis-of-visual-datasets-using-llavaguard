{
 "cells": [
  {
   "cell_type": "code",
   "execution_count": 1,
   "id": "8a244288",
   "metadata": {},
   "outputs": [
    {
     "name": "stdout",
     "output_type": "stream",
     "text": [
      "Downloading split 'train' to '/pfss/mlde/workspaces/mlde_wsp_KIServiceCenter/finngu/LlavaGuard/fiftyone/open-images-v6/train' if necessary\n",
      "Necessary images already downloaded\n",
      "Existing download of split 'train' is sufficient\n",
      "Downloading split 'test' to '/pfss/mlde/workspaces/mlde_wsp_KIServiceCenter/finngu/LlavaGuard/fiftyone/open-images-v6/test' if necessary\n",
      "Necessary images already downloaded\n",
      "Existing download of split 'test' is sufficient\n",
      "Downloading split 'validation' to '/pfss/mlde/workspaces/mlde_wsp_KIServiceCenter/finngu/LlavaGuard/fiftyone/open-images-v6/validation' if necessary\n",
      "Necessary images already downloaded\n",
      "Existing download of split 'validation' is sufficient\n",
      "Loading 'open-images-v6' split 'train'\n",
      " 100% |█████████████████| 100/100 [30.0ms elapsed, 0s remaining, 3.3K samples/s]      \n",
      "Loading 'open-images-v6' split 'test'\n",
      " 100% |█████████████████| 100/100 [20.4ms elapsed, 0s remaining, 4.9K samples/s]      \n",
      "Loading 'open-images-v6' split 'validation'\n",
      " 100% |█████████████████| 100/100 [20.5ms elapsed, 0s remaining, 4.9K samples/s]      \n",
      "Dataset 'open-images-v6-100' created\n"
     ]
    }
   ],
   "source": [
    "import fiftyone as fo\n",
    "import fiftyone.zoo as foz\n",
    "\n",
    "dataset = foz.load_zoo_dataset(\n",
    "    \"open-images-v6\",\n",
    "    # split=\"validation\",  # if not provided, all splits are downloaded\n",
    "    label_types=[],\n",
    "    seed=42069,\n",
    "    shuffle=False,\n",
    "    max_samples=100,\n",
    ")\n",
    "\n",
    "# dataset.export(export_dir=\"/pfss/mlde/workspaces/mlde_wsp_Shared_Datasets/open-images-v6\")"
   ]
  }
 ],
 "metadata": {
  "kernelspec": {
   "display_name": "Python 3",
   "language": "python",
   "name": "python3"
  },
  "language_info": {
   "codemirror_mode": {
    "name": "ipython",
    "version": 3
   },
   "file_extension": ".py",
   "mimetype": "text/x-python",
   "name": "python",
   "nbconvert_exporter": "python",
   "pygments_lexer": "ipython3",
   "version": "3.10.15"
  }
 },
 "nbformat": 4,
 "nbformat_minor": 5
}
