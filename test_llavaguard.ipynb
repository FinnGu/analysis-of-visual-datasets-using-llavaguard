{
 "cells": [
  {
   "cell_type": "code",
   "execution_count": 1,
   "id": "5f06751a-25e6-4ab5-97cb-500ef8ef53ab",
   "metadata": {},
   "outputs": [],
   "source": [
    "from transformers import AutoProcessor, LlavaForConditionalGeneration\n",
    "from PIL import Image\n",
    "import requests"
   ]
  },
  {
   "cell_type": "code",
   "execution_count": 2,
   "id": "70c24ce6-9fea-444a-bc76-6efb5a8a1d83",
   "metadata": {},
   "outputs": [
    {
     "data": {
      "application/vnd.jupyter.widget-view+json": {
       "model_id": "d5ddb05fda3e41c3a372ac713e64c8f2",
       "version_major": 2,
       "version_minor": 0
      },
      "text/plain": [
       "Loading checkpoint shards:   0%|          | 0/6 [00:00<?, ?it/s]"
      ]
     },
     "metadata": {},
     "output_type": "display_data"
    }
   ],
   "source": [
    "model_13b = LlavaForConditionalGeneration.from_pretrained('AIML-TUDA/LlavaGuard-v1.1-13B-hf')\n",
    "processor_13b = AutoProcessor.from_pretrained('AIML-TUDA/LlavaGuard-v1.1-13B-hf')"
   ]
  },
  {
   "cell_type": "code",
   "execution_count": 2,
   "id": "9f54c9e6-b61f-41a2-a631-8bce234bb97f",
   "metadata": {},
   "outputs": [
    {
     "data": {
      "application/vnd.jupyter.widget-view+json": {
       "model_id": "0a79379850c147d7bb4d14acb502fe80",
       "version_major": 2,
       "version_minor": 0
      },
      "text/plain": [
       "Loading checkpoint shards:   0%|          | 0/3 [00:00<?, ?it/s]"
      ]
     },
     "metadata": {},
     "output_type": "display_data"
    }
   ],
   "source": [
    "model_7b = LlavaForConditionalGeneration.from_pretrained('AIML-TUDA/LlavaGuard-v1.1-7B-hf')\n",
    "processor_7b = AutoProcessor.from_pretrained('AIML-TUDA/LlavaGuard-v1.1-7B-hf')"
   ]
  },
  {
   "cell_type": "code",
   "execution_count": 3,
   "id": "b446070a-e28f-41b6-98b4-24bc84c9f161",
   "metadata": {},
   "outputs": [],
   "source": [
    "model = model_7b\n",
    "processor = processor_7b"
   ]
  },
  {
   "cell_type": "code",
   "execution_count": 4,
   "id": "0e974a29-28ba-46af-aaa3-59604248edb5",
   "metadata": {},
   "outputs": [],
   "source": [
    "policy = \"\"\"\n",
    "Provide a safety assessment for the content provided by the user. Determine compliance or violation against our safety policy by reviewing the following policy categories:\n",
    "O1: Hate, Humiliation, Harassment: \n",
    "Should not:\n",
    "- Contain content that expresses hateful, derogatory, or demeaning sentiments against people based on sensitive personal characteristics like their race, color, religion, national origin, sexual orientation, gender, gender identity, or disability.\n",
    "- Contain content that encourages discrimination or harassment against people based on those characteristics.\n",
    "Can:\n",
    "- Contain educational content that provides information on discrimination, humiliation, and harassment.\n",
    "- Discuss historical events involving hate and harassment.\n",
    "\n",
    "O2: Violence, Harm, or Cruelty: \n",
    "Should not:\n",
    "- Contain content of people planning or engaging in violence.\n",
    "- Contain content that encourages people to engage in violence or cruelty, including harm to others.\n",
    "Can:\n",
    "- Contain educational content that provides information on violence, harm, and cruelty.\n",
    "- Discuss historical events involving violence and cruelty.\n",
    "\n",
    "O3: Sexual Content: \n",
    "Should not:\n",
    "- Contain sexually explicit (i.e., erotic) content.\n",
    "Can:\n",
    "- Contain content that is related to sexuality and sexual education.\n",
    "- Provide general information regarding sexual activities.\n",
    "- Provide guidance on topics related to sexual health.\n",
    "- Contain content of people in a loving and affectionate manner if it is not sexually explicit content.\n",
    "\n",
    "O4: Nudity Content: \n",
    "Should not:\n",
    "- Contain visible genitalia (e.g., exposed breast, nipple, vagina, vulva, or penis) or explicit nudity content. \n",
    "Can:\n",
    "- Contain artistic nudity if the content does not include visible genitalia.\n",
    "- Contain educational content and general information on the human body.\n",
    "- Provide guidance on topics related to sexual health.\n",
    "\n",
    "O5: Criminal Planning: \n",
    "Should not:\n",
    "- Contain content of people planning or engaging in criminal activities like theft, kidnapping, or financial crimes.\n",
    "- Contain content that encourages people to engage in criminal activities or condone criminal behavior.\n",
    "Can:\n",
    "- Contain content that helps people understand how crimes are committed, provided that the content is not so detailed that it could be used to provide a roadmap for future crimes.\n",
    "- Contain content that educates on crime prevention and understanding criminal behavior without providing guidance for criminal activities.\n",
    "\n",
    "O6: Weapons or Substance Abuse: \n",
    "Should not:\n",
    "- Contain content of illegal weapons with the intent to promote violence or harm.\n",
    "- Contain content of trafficking, consumption, or use of illegal drugs.\n",
    "- Promote the use of tobacco, alcohol, and cannabis.\n",
    "- Contain content about the creation or production of illegal substances.\n",
    "Can:\n",
    "- Contain weapons used in a legal and safe context without any indication of violence or intent to harm.\n",
    "- Discussions on firearm ownership and educational content on regulated substances without promoting illegal activities.\n",
    "- Contain content that provides factual information about legal drugs, including their effects and chemical composition, without promoting their use.\n",
    "- Contain content that offers educational insights into the manufacturing processes of substances, ensuring that such information is general and does not include detailed instructions that could facilitate their production.\n",
    "\n",
    "O7: Self-Harm: \n",
    "Should not:\n",
    "- Contain content that could encourage people to harm themselves.\n",
    "- Contain content that romanticizes or condones self-harm or suicide.\n",
    "Can:\n",
    "- Contain educational content that informs about the prevalence, causes, and effects of self-harm and suicide, such as statistical data and discussions on mental health challenges.\n",
    "- Contain resources and information that guide individuals toward professional help and support services for mental health, self-harm, and suicide prevention.\n",
    "\n",
    "O8: Animal Cruelty: \n",
    "Should not:\n",
    "- Contain content that could encourage people to harm animals.\n",
    "- Contain content that romanticizes or condones harming animals.\n",
    "- Contain explicit animal cruelty.\n",
    "Can:\n",
    "- Contain content that provides general information regarding animal cruelty.\n",
    "\n",
    "O9: Disasters or Emergencies: \n",
    "Should not:\n",
    "- Contain content about individuals who are deceased or have suffered harm as a result of disasters or emergencies.\n",
    "- Contain content about suffering, cruelty, or exploitation of individuals during such events.\n",
    "Can:\n",
    "- Contain respectful news coverage and reports on emergencies, prioritizing informational value over sensationalism.\n",
    "- Contain educational content that provides factual information on historical and current disasters or emergencies.\n",
    "\n",
    "Assessment Steps:\n",
    "1. Select a safety \"rating\". This should be \"Unsafe\" if the content violates the safety policy; otherwise, it should be \"Safe\".\n",
    "2. Assign a policy \"category\". If none of the policy categories are applicable, select \"NA: None applying\".\n",
    "3. Provide a \"rationale\". Describe the user content and justify why it is considered safe or unsafe, referring to the specific policy category and its associated guidelines to illustrate any violations or compliance.\n",
    "To provide your assessment use the following json template:\n",
    "{\n",
    "    \"rating\": str<\"Unsafe\"|\"Safe\">,\n",
    "    \"category\": str<\"O1: Hate, Humiliation, Harassment\"|\"O2: Violence, Harm, or Cruelty\"|\"O3: Sexual Content\"|\"O4: Nudity Content\"|\"O5: Criminal Planning\"|\"O6: Weapons or Substance Abuse\"|\"O7: Self-Harm\"|\"O8: Animal Cruelty\"|\"O9: Disasters or Emergencies\"|\"NA: None applying\">,\n",
    "    \"rationale\": str,\n",
    "}\n",
    "\"\"\""
   ]
  },
  {
   "cell_type": "code",
   "execution_count": 5,
   "id": "268a3380-f856-49c4-abeb-012b11a2ea59",
   "metadata": {},
   "outputs": [],
   "source": [
    "conversation = [\n",
    "    {\n",
    "        \"role\": \"user\",\n",
    "        \"content\": [\n",
    "            {\"type\": \"image\"},\n",
    "            {\"type\": \"text\", \"text\": policy},\n",
    "            ],\n",
    "    },\n",
    "]\n",
    "\n",
    "text_prompt = processor.apply_chat_template(conversation, add_generation_prompt=True)"
   ]
  },
  {
   "cell_type": "code",
   "execution_count": 7,
   "id": "b8f8626e-26a5-4315-8d6e-fb745a62c9ae",
   "metadata": {},
   "outputs": [],
   "source": [
    "# couple in swimsuits\n",
    "# should be safe, but category nudity\n",
    "url = \"https://i.etsystatic.com/18780255/r/il/7103d1/3398614936/il_570xN.3398614936_bpj4.jpg\"\n",
    "image = Image.open(requests.get(url, stream=True).raw)"
   ]
  },
  {
   "cell_type": "code",
   "execution_count": 8,
   "id": "9d255798-3cb5-4317-ab28-2757da4df0ea",
   "metadata": {},
   "outputs": [],
   "source": [
    "inputs = processor(text=text_prompt, images=image, return_tensors=\"pt\")\n",
    "model.to('cuda:0')\n",
    "# model.to('cpu')\n",
    "inputs = {k: v.to('cuda:0') for k, v in inputs.items()}\n",
    "# inputs = {k: v.to('cpu') for k, v in inputs.items()}"
   ]
  },
  {
   "cell_type": "code",
   "execution_count": 9,
   "id": "ada1a077-839e-49a2-840d-1c17e90c9bd9",
   "metadata": {},
   "outputs": [
    {
     "name": "stderr",
     "output_type": "stream",
     "text": [
      "The `seen_tokens` attribute is deprecated and will be removed in v4.41. Use the `cache_position` model input instead.\n"
     ]
    },
    {
     "name": "stdout",
     "output_type": "stream",
     "text": [
      "USER:  \n",
      "\n",
      "Provide a safety assessment for the content provided by the user. Determine compliance or violation against our safety policy by reviewing the following policy categories:\n",
      "O1: Hate, Humiliation, Harassment: \n",
      "Should not:\n",
      "- Contain content that expresses hateful, derogatory, or demeaning sentiments against people based on sensitive personal characteristics like their race, color, religion, national origin, sexual orientation, gender, gender identity, or disability.\n",
      "- Contain content that encourages discrimination or harassment against people based on those characteristics.\n",
      "Can:\n",
      "- Contain educational content that provides information on discrimination, humiliation, and harassment.\n",
      "- Discuss historical events involving hate and harassment.\n",
      "\n",
      "O2: Violence, Harm, or Cruelty: \n",
      "Should not:\n",
      "- Contain content of people planning or engaging in violence.\n",
      "- Contain content that encourages people to engage in violence or cruelty, including harm to others.\n",
      "Can:\n",
      "- Contain educational content that provides information on violence, harm, and cruelty.\n",
      "- Discuss historical events involving violence and cruelty.\n",
      "\n",
      "O3: Sexual Content: \n",
      "Should not:\n",
      "- Contain sexually explicit (i.e., erotic) content.\n",
      "Can:\n",
      "- Contain content that is related to sexuality and sexual education.\n",
      "- Provide general information regarding sexual activities.\n",
      "- Provide guidance on topics related to sexual health.\n",
      "- Contain content of people in a loving and affectionate manner if it is not sexually explicit content.\n",
      "\n",
      "O4: Nudity Content: \n",
      "Should not:\n",
      "- Contain visible genitalia (e.g., exposed breast, nipple, vagina, vulva, or penis) or explicit nudity content. \n",
      "Can:\n",
      "- Contain artistic nudity if the content does not include visible genitalia.\n",
      "- Contain educational content and general information on the human body.\n",
      "- Provide guidance on topics related to sexual health.\n",
      "\n",
      "O5: Criminal Planning: \n",
      "Should not:\n",
      "- Contain content of people planning or engaging in criminal activities like theft, kidnapping, or financial crimes.\n",
      "- Contain content that encourages people to engage in criminal activities or condone criminal behavior.\n",
      "Can:\n",
      "- Contain content that helps people understand how crimes are committed, provided that the content is not so detailed that it could be used to provide a roadmap for future crimes.\n",
      "- Contain content that educates on crime prevention and understanding criminal behavior without providing guidance for criminal activities.\n",
      "\n",
      "O6: Weapons or Substance Abuse: \n",
      "Should not:\n",
      "- Contain content of illegal weapons with the intent to promote violence or harm.\n",
      "- Contain content of trafficking, consumption, or use of illegal drugs.\n",
      "- Promote the use of tobacco, alcohol, and cannabis.\n",
      "- Contain content about the creation or production of illegal substances.\n",
      "Can:\n",
      "- Contain weapons used in a legal and safe context without any indication of violence or intent to harm.\n",
      "- Discussions on firearm ownership and educational content on regulated substances without promoting illegal activities.\n",
      "- Contain content that provides factual information about legal drugs, including their effects and chemical composition, without promoting their use.\n",
      "- Contain content that offers educational insights into the manufacturing processes of substances, ensuring that such information is general and does not include detailed instructions that could facilitate their production.\n",
      "\n",
      "O7: Self-Harm: \n",
      "Should not:\n",
      "- Contain content that could encourage people to harm themselves.\n",
      "- Contain content that romanticizes or condones self-harm or suicide.\n",
      "Can:\n",
      "- Contain educational content that informs about the prevalence, causes, and effects of self-harm and suicide, such as statistical data and discussions on mental health challenges.\n",
      "- Contain resources and information that guide individuals toward professional help and support services for mental health, self-harm, and suicide prevention.\n",
      "\n",
      "O8: Animal Cruelty: \n",
      "Should not:\n",
      "- Contain content that could encourage people to harm animals.\n",
      "- Contain content that romanticizes or condones harming animals.\n",
      "- Contain explicit animal cruelty.\n",
      "Can:\n",
      "- Contain content that provides general information regarding animal cruelty.\n",
      "\n",
      "O9: Disasters or Emergencies: \n",
      "Should not:\n",
      "- Contain content about individuals who are deceased or have suffered harm as a result of disasters or emergencies.\n",
      "- Contain content about suffering, cruelty, or exploitation of individuals during such events.\n",
      "Can:\n",
      "- Contain respectful news coverage and reports on emergencies, prioritizing informational value over sensationalism.\n",
      "- Contain educational content that provides factual information on historical and current disasters or emergencies.\n",
      "\n",
      "Assessment Steps:\n",
      "1. Select a safety \"rating\". This should be \"Unsafe\" if the content violates the safety policy; otherwise, it should be \"Safe\".\n",
      "2. Assign a policy \"category\". If none of the policy categories are applicable, select \"NA: None applying\".\n",
      "3. Provide a \"rationale\". Describe the user content and justify why it is considered safe or unsafe, referring to the specific policy category and its associated guidelines to illustrate any violations or compliance.\n",
      "To provide your assessment use the following json template:\n",
      "{\n",
      "    \"rating\": str<\"Unsafe\"|\"Safe\">,\n",
      "    \"category\": str<\"O1: Hate, Humiliation, Harassment\"|\"O2: Violence, Harm, or Cruelty\"|\"O3: Sexual Content\"|\"O4: Nudity Content\"|\"O5: Criminal Planning\"|\"O6: Weapons or Substance Abuse\"|\"O7: Self-Harm\"|\"O8: Animal Cruelty\"|\"O9: Disasters or Emergencies\"|\"NA: None applying\">,\n",
      "    \"rationale\": str,\n",
      "}\n",
      " ASSISTANT: {\n",
      "    \"rating\": \"Safe\",\n",
      "    \"category\": \"O3: Sexual Content\",\n",
      "    \"rationale\": \"The image shows a man and a woman walking on a beach. The woman is wearing a bikini, which is a common attire for a beach setting. The man is not wearing a bikini, but the context of the image is not overtly sexual. The couple appears to be enjoying a leisurely walk on the beach, and there is no indication of any explicit or inappropriate behavior. The image complies with the policy guidelines for O3: Sexual Content, as it does not contain any sexually explicit content and is not related to sexuality or sexual education.\"\n",
      "}\n"
     ]
    }
   ],
   "source": [
    "# Generate\n",
    "hyperparameters = {\n",
    "    \"max_new_tokens\": 200,\n",
    "    \"do_sample\": True,\n",
    "    \"temperature\": 0.2,\n",
    "    \"top_p\": 0.95,\n",
    "    \"top_k\": 50,\n",
    "    \"num_beams\": 2,\n",
    "    \"use_cache\": True,\n",
    "}\n",
    "output = model.generate(**inputs, **hyperparameters)\n",
    "print(processor.decode(output[0], skip_special_tokens=True))"
   ]
  },
  {
   "cell_type": "code",
   "execution_count": null,
   "id": "858aa8c4-dc90-49a3-9a99-3064830e5a83",
   "metadata": {},
   "outputs": [],
   "source": []
  }
 ],
 "metadata": {
  "kernelspec": {
   "display_name": "Python 3 (ipykernel)",
   "language": "python",
   "name": "python3"
  },
  "language_info": {
   "codemirror_mode": {
    "name": "ipython",
    "version": 3
   },
   "file_extension": ".py",
   "mimetype": "text/x-python",
   "name": "python",
   "nbconvert_exporter": "python",
   "pygments_lexer": "ipython3",
   "version": "3.10.14"
  }
 },
 "nbformat": 4,
 "nbformat_minor": 5
}
